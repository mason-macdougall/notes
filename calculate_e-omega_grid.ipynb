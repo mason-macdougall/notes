{
 "cells": [
  {
   "cell_type": "code",
   "execution_count": 1,
   "metadata": {},
   "outputs": [],
   "source": [
    "import numpy as np\n",
    "import matplotlib.pyplot as plt\n",
    "import random\n",
    "import scipy.optimize as op\n",
    "from scipy.interpolate import interp1d\n",
    "from scipy.interpolate import RectBivariateSpline\n",
    "from constants import *"
   ]
  },
  {
   "cell_type": "markdown",
   "metadata": {},
   "source": [
    "# Joint $\\{e,\\omega\\}$ distribution"
   ]
  },
  {
   "cell_type": "code",
   "execution_count": null,
   "metadata": {},
   "outputs": [],
   "source": [
    "e_ = 0.1*1.5*np.arange(1,5)\n",
    "w_ = np.linspace(-0.5*pi, 1.5*pi)\n",
    "\n",
    "\n",
    "colors = [\"red\", \"orange\", \"green\", \"blue\", \"purple\", \"black\"]\n",
    "\n",
    "def f(e,w):\n",
    "    return (1+e*np.sin(w))/(1-e**2)\n",
    "\n",
    "plt.figure()\n",
    "for i, e_i in enumerate(e_):\n",
    "    plt.plot(w_, f(e_i, w_), c=colors[i], label=\"{0:.2f}\".format(e_i))\n",
    "plt.xlabel(\"$\\omega$\")\n",
    "plt.legend()\n",
    "plt.show()"
   ]
  },
  {
   "cell_type": "markdown",
   "metadata": {},
   "source": [
    "# Precompute a grid of $\\{e, \\omega\\}$ transit probabilities"
   ]
  },
  {
   "cell_type": "code",
   "execution_count": null,
   "metadata": {},
   "outputs": [],
   "source": [
    "npts = 1001\n",
    "\n",
    "e_uni = np.linspace(0,1,npts)\n",
    "w_uni = np.linspace(0,2*pi,npts)\n",
    "\n",
    "grid = {}\n",
    "grid[\"ecc\"] = np.tile(e_uni, npts).reshape((npts,npts))\n",
    "grid[\"omega\"] = np.repeat(w_uni, npts).reshape(npts,npts)\n",
    "grid[\"weight\"] = (1 + grid[\"ecc\"]*np.sin(grid[\"omega\"]))/(2*pi)\n",
    "grid[\"weight\"] /= np.sum(grid[\"weight\"])"
   ]
  },
  {
   "cell_type": "markdown",
   "metadata": {},
   "source": [
    "### Draw uniform samples, calculate weights via interpolations, and plot weighted histogram"
   ]
  },
  {
   "cell_type": "code",
   "execution_count": null,
   "metadata": {},
   "outputs": [],
   "source": [
    "ndraw = int(1e6)\n",
    "\n",
    "RBS = RectBivariateSpline(e_uni, w_uni, grid[\"weight\"].T)\n",
    "\n",
    "e_draw = np.random.uniform(0, 1, ndraw)\n",
    "w_draw = np.random.uniform(0, 2*pi, ndraw)\n",
    "\n",
    "wd = RBS.ev(e_draw, w_draw)\n",
    "\n",
    "fig, ax = plt.subplots(1,2, figsize=(12,5))\n",
    "\n",
    "ax[0].hist(e_draw, weights=wd, color=\"C0\")\n",
    "ax[1].hist(w_draw, weights=wd, color=\"C1\")\n",
    "\n",
    "plt.show()"
   ]
  },
  {
   "cell_type": "markdown",
   "metadata": {},
   "source": [
    "# Draw samples with inverse transform sampling on an interpolated grid"
   ]
  },
  {
   "cell_type": "code",
   "execution_count": 4,
   "metadata": {},
   "outputs": [],
   "source": [
    "ngrid = 101\n",
    "ndraw = int(1e6)\n",
    "\n",
    "e_uni = np.linspace(0,1,ngrid)\n",
    "z_uni = np.linspace(0,1,ngrid)\n",
    "\n",
    "omega_grid = np.zeros((ngrid,ngrid))\n",
    "\n",
    "for i, e_ in enumerate(e_uni):\n",
    "    x = np.linspace(-0.5*pi, 1.5*pi, int(1e4))\n",
    "    y = (1 + e_*np.sin(x))/(2*pi)\n",
    "    \n",
    "    cdf = np.cumsum(y)\n",
    "    cdf -= cdf.min()\n",
    "    cdf = cdf/cdf.max()\n",
    "    inv_cdf = interp1d(cdf, x)\n",
    "    \n",
    "    omega_grid[i] = inv_cdf(z_uni)\n",
    "    \n",
    "RBS = RectBivariateSpline(e_uni, z_uni, omega_grid)\n",
    "\n",
    "e_draw = np.random.uniform(0, 1, ndraw)\n",
    "z_draw = np.random.uniform(0, 1, ndraw)\n",
    "w_draw = RBS.ev(e_draw, z_draw)"
   ]
  },
  {
   "cell_type": "code",
   "execution_count": 6,
   "metadata": {},
   "outputs": [
    {
     "name": "stderr",
     "output_type": "stream",
     "text": [
      "WARNING:chainconsumer:Parameter $e$ in chain Chain 0 is not constrained\n"
     ]
    },
    {
     "data": {
      "image/png": "[encoded data removed]",
      "text/plain": [
       "<Figure size 360x360 with 4 Axes>"
      ]
     },
     "metadata": {
      "needs_background": "light"
     },
     "output_type": "display_data"
    }
   ],
   "source": [
    "from chainconsumer import ChainConsumer\n",
    "\n",
    "c = ChainConsumer()\n",
    "c.add_chain([e_draw, w_draw], parameters=[\"$e$\", \"$\\omega$\"])\n",
    "c.plotter.plot(figsize=(5,5));"
   ]
  },
  {
   "cell_type": "code",
   "execution_count": null,
   "metadata": {},
   "outputs": [],
   "source": []
  }
 ],
 "metadata": {
  "kernelspec": {
   "display_name": "Python 3",
   "language": "python",
   "name": "python3"
  },
  "language_info": {
   "codemirror_mode": {
    "name": "ipython",
    "version": 3
   },
   "file_extension": ".py",
   "mimetype": "text/x-python",
   "name": "python",
   "nbconvert_exporter": "python",
   "pygments_lexer": "ipython3",
   "version": "3.7.3"
  }
 },
 "nbformat": 4,
 "nbformat_minor": 2
}
